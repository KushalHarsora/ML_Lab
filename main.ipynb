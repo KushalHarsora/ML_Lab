{
 "cells": [
  {
   "cell_type": "code",
   "execution_count": 1,
   "metadata": {},
   "outputs": [
    {
     "name": "stdout",
     "output_type": "stream",
     "text": [
      "Hello World\n"
     ]
    }
   ],
   "source": [
    "print(\"Hello World\")"
   ]
  },
  {
   "cell_type": "markdown",
   "metadata": {},
   "source": [
    "# Installing Dependencies"
   ]
  },
  {
   "cell_type": "code",
   "execution_count": 2,
   "metadata": {},
   "outputs": [
    {
     "name": "stdout",
     "output_type": "stream",
     "text": [
      "Requirement already satisfied: pandas in /home/comp/.local/lib/python3.8/site-packages (2.0.3)\n",
      "Requirement already satisfied: matplotlib in /home/comp/.local/lib/python3.8/site-packages (3.7.5)\n",
      "Requirement already satisfied: numpy in /home/comp/.local/lib/python3.8/site-packages (1.24.4)\n",
      "Requirement already satisfied: seaborn in /home/comp/.local/lib/python3.8/site-packages (0.13.2)\n",
      "Requirement already satisfied: scikit-learn in /home/comp/.local/lib/python3.8/site-packages (1.3.2)\n",
      "Requirement already satisfied: graphviz in /home/comp/.local/lib/python3.8/site-packages (0.20.3)\n",
      "Requirement already satisfied: python-dateutil>=2.8.2 in /home/comp/.local/lib/python3.8/site-packages (from pandas) (2.9.0.post0)\n",
      "Requirement already satisfied: pytz>=2020.1 in /home/comp/.local/lib/python3.8/site-packages (from pandas) (2024.2)\n",
      "Requirement already satisfied: tzdata>=2022.1 in /home/comp/.local/lib/python3.8/site-packages (from pandas) (2024.1)\n",
      "Requirement already satisfied: fonttools>=4.22.0 in /home/comp/.local/lib/python3.8/site-packages (from matplotlib) (4.53.1)\n",
      "Requirement already satisfied: pillow>=6.2.0 in /usr/lib/python3/dist-packages (from matplotlib) (7.0.0)\n",
      "Requirement already satisfied: contourpy>=1.0.1 in /home/comp/.local/lib/python3.8/site-packages (from matplotlib) (1.1.1)\n",
      "Requirement already satisfied: importlib-resources>=3.2.0; python_version < \"3.10\" in /home/comp/.local/lib/python3.8/site-packages (from matplotlib) (6.4.5)\n",
      "Requirement already satisfied: cycler>=0.10 in /home/comp/.local/lib/python3.8/site-packages (from matplotlib) (0.12.1)\n",
      "Requirement already satisfied: packaging>=20.0 in /home/comp/.local/lib/python3.8/site-packages (from matplotlib) (24.1)\n",
      "Requirement already satisfied: pyparsing>=2.3.1 in /home/comp/.local/lib/python3.8/site-packages (from matplotlib) (3.1.4)\n",
      "Requirement already satisfied: kiwisolver>=1.0.1 in /home/comp/.local/lib/python3.8/site-packages (from matplotlib) (1.4.7)\n",
      "Requirement already satisfied: joblib>=1.1.1 in /home/comp/.local/lib/python3.8/site-packages (from scikit-learn) (1.4.2)\n",
      "Requirement already satisfied: threadpoolctl>=2.0.0 in /home/comp/.local/lib/python3.8/site-packages (from scikit-learn) (3.5.0)\n",
      "Requirement already satisfied: scipy>=1.5.0 in /home/comp/.local/lib/python3.8/site-packages (from scikit-learn) (1.10.1)\n",
      "Requirement already satisfied: six>=1.5 in /usr/lib/python3/dist-packages (from python-dateutil>=2.8.2->pandas) (1.14.0)\n",
      "Requirement already satisfied: zipp>=3.1.0; python_version < \"3.10\" in /home/comp/.local/lib/python3.8/site-packages (from importlib-resources>=3.2.0; python_version < \"3.10\"->matplotlib) (3.20.2)\n",
      "Note: you may need to restart the kernel to use updated packages.\n"
     ]
    }
   ],
   "source": [
    "%pip install pandas matplotlib numpy seaborn scikit-learn graphviz"
   ]
  },
  {
   "cell_type": "markdown",
   "metadata": {},
   "source": [
    "# Importing Libraries"
   ]
  },
  {
   "cell_type": "code",
   "execution_count": 3,
   "metadata": {},
   "outputs": [],
   "source": [
    "import pandas as pd\n",
    "import numpy as np\n",
    "import seaborn as sns\n",
    "import matplotlib.pylab as plt"
   ]
  },
  {
   "cell_type": "markdown",
   "metadata": {},
   "source": [
    "# Main Code"
   ]
  },
  {
   "cell_type": "code",
   "execution_count": 4,
   "metadata": {},
   "outputs": [
    {
     "data": {
      "text/html": [
       "<div>\n",
       "<style scoped>\n",
       "    .dataframe tbody tr th:only-of-type {\n",
       "        vertical-align: middle;\n",
       "    }\n",
       "\n",
       "    .dataframe tbody tr th {\n",
       "        vertical-align: top;\n",
       "    }\n",
       "\n",
       "    .dataframe thead th {\n",
       "        text-align: right;\n",
       "    }\n",
       "</style>\n",
       "<table border=\"1\" class=\"dataframe\">\n",
       "  <thead>\n",
       "    <tr style=\"text-align: right;\">\n",
       "      <th></th>\n",
       "      <th>Age</th>\n",
       "      <th>EstimatedSalary</th>\n",
       "      <th>Purchased</th>\n",
       "    </tr>\n",
       "  </thead>\n",
       "  <tbody>\n",
       "    <tr>\n",
       "      <th>0</th>\n",
       "      <td>19</td>\n",
       "      <td>19000</td>\n",
       "      <td>0</td>\n",
       "    </tr>\n",
       "    <tr>\n",
       "      <th>1</th>\n",
       "      <td>35</td>\n",
       "      <td>20000</td>\n",
       "      <td>0</td>\n",
       "    </tr>\n",
       "    <tr>\n",
       "      <th>2</th>\n",
       "      <td>26</td>\n",
       "      <td>43000</td>\n",
       "      <td>0</td>\n",
       "    </tr>\n",
       "    <tr>\n",
       "      <th>3</th>\n",
       "      <td>27</td>\n",
       "      <td>57000</td>\n",
       "      <td>0</td>\n",
       "    </tr>\n",
       "    <tr>\n",
       "      <th>4</th>\n",
       "      <td>19</td>\n",
       "      <td>76000</td>\n",
       "      <td>0</td>\n",
       "    </tr>\n",
       "  </tbody>\n",
       "</table>\n",
       "</div>"
      ],
      "text/plain": [
       "   Age  EstimatedSalary  Purchased\n",
       "0   19            19000          0\n",
       "1   35            20000          0\n",
       "2   26            43000          0\n",
       "3   27            57000          0\n",
       "4   19            76000          0"
      ]
     },
     "execution_count": 4,
     "metadata": {},
     "output_type": "execute_result"
    }
   ],
   "source": [
    "df = pd.read_csv(\"Social_Network_Ads.csv\")\n",
    "df.head()"
   ]
  },
  {
   "cell_type": "code",
   "execution_count": 5,
   "metadata": {},
   "outputs": [
    {
     "data": {
      "text/html": [
       "<div>\n",
       "<style scoped>\n",
       "    .dataframe tbody tr th:only-of-type {\n",
       "        vertical-align: middle;\n",
       "    }\n",
       "\n",
       "    .dataframe tbody tr th {\n",
       "        vertical-align: top;\n",
       "    }\n",
       "\n",
       "    .dataframe thead th {\n",
       "        text-align: right;\n",
       "    }\n",
       "</style>\n",
       "<table border=\"1\" class=\"dataframe\">\n",
       "  <thead>\n",
       "    <tr style=\"text-align: right;\">\n",
       "      <th></th>\n",
       "      <th>Null values</th>\n",
       "    </tr>\n",
       "  </thead>\n",
       "  <tbody>\n",
       "  </tbody>\n",
       "</table>\n",
       "</div>"
      ],
      "text/plain": [
       "Empty DataFrame\n",
       "Columns: [Null values]\n",
       "Index: []"
      ]
     },
     "execution_count": 5,
     "metadata": {},
     "output_type": "execute_result"
    }
   ],
   "source": [
    "NAs = pd.concat([df.isnull().sum()], axis=1, keys=['Null values'])\n",
    "NAs[NAs.sum(axis=1)>0]"
   ]
  },
  {
   "cell_type": "code",
   "execution_count": 6,
   "metadata": {},
   "outputs": [
    {
     "name": "stdout",
     "output_type": "stream",
     "text": [
      "<class 'pandas.core.frame.DataFrame'>\n",
      "RangeIndex: 400 entries, 0 to 399\n",
      "Data columns (total 3 columns):\n",
      " #   Column           Non-Null Count  Dtype\n",
      "---  ------           --------------  -----\n",
      " 0   Age              400 non-null    int64\n",
      " 1   EstimatedSalary  400 non-null    int64\n",
      " 2   Purchased        400 non-null    int64\n",
      "dtypes: int64(3)\n",
      "memory usage: 9.5 KB\n"
     ]
    }
   ],
   "source": [
    "df.info()"
   ]
  },
  {
   "cell_type": "code",
   "execution_count": 7,
   "metadata": {},
   "outputs": [
    {
     "data": {
      "text/html": [
       "<div>\n",
       "<style scoped>\n",
       "    .dataframe tbody tr th:only-of-type {\n",
       "        vertical-align: middle;\n",
       "    }\n",
       "\n",
       "    .dataframe tbody tr th {\n",
       "        vertical-align: top;\n",
       "    }\n",
       "\n",
       "    .dataframe thead th {\n",
       "        text-align: right;\n",
       "    }\n",
       "</style>\n",
       "<table border=\"1\" class=\"dataframe\">\n",
       "  <thead>\n",
       "    <tr style=\"text-align: right;\">\n",
       "      <th></th>\n",
       "      <th>Age</th>\n",
       "      <th>EstimatedSalary</th>\n",
       "      <th>Purchased</th>\n",
       "    </tr>\n",
       "  </thead>\n",
       "  <tbody>\n",
       "    <tr>\n",
       "      <th>count</th>\n",
       "      <td>400.000000</td>\n",
       "      <td>400.000000</td>\n",
       "      <td>400.000000</td>\n",
       "    </tr>\n",
       "    <tr>\n",
       "      <th>mean</th>\n",
       "      <td>37.655000</td>\n",
       "      <td>69742.500000</td>\n",
       "      <td>0.357500</td>\n",
       "    </tr>\n",
       "    <tr>\n",
       "      <th>std</th>\n",
       "      <td>10.482877</td>\n",
       "      <td>34096.960282</td>\n",
       "      <td>0.479864</td>\n",
       "    </tr>\n",
       "    <tr>\n",
       "      <th>min</th>\n",
       "      <td>18.000000</td>\n",
       "      <td>15000.000000</td>\n",
       "      <td>0.000000</td>\n",
       "    </tr>\n",
       "    <tr>\n",
       "      <th>25%</th>\n",
       "      <td>29.750000</td>\n",
       "      <td>43000.000000</td>\n",
       "      <td>0.000000</td>\n",
       "    </tr>\n",
       "    <tr>\n",
       "      <th>50%</th>\n",
       "      <td>37.000000</td>\n",
       "      <td>70000.000000</td>\n",
       "      <td>0.000000</td>\n",
       "    </tr>\n",
       "    <tr>\n",
       "      <th>75%</th>\n",
       "      <td>46.000000</td>\n",
       "      <td>88000.000000</td>\n",
       "      <td>1.000000</td>\n",
       "    </tr>\n",
       "    <tr>\n",
       "      <th>max</th>\n",
       "      <td>60.000000</td>\n",
       "      <td>150000.000000</td>\n",
       "      <td>1.000000</td>\n",
       "    </tr>\n",
       "  </tbody>\n",
       "</table>\n",
       "</div>"
      ],
      "text/plain": [
       "              Age  EstimatedSalary   Purchased\n",
       "count  400.000000       400.000000  400.000000\n",
       "mean    37.655000     69742.500000    0.357500\n",
       "std     10.482877     34096.960282    0.479864\n",
       "min     18.000000     15000.000000    0.000000\n",
       "25%     29.750000     43000.000000    0.000000\n",
       "50%     37.000000     70000.000000    0.000000\n",
       "75%     46.000000     88000.000000    1.000000\n",
       "max     60.000000    150000.000000    1.000000"
      ]
     },
     "execution_count": 7,
     "metadata": {},
     "output_type": "execute_result"
    }
   ],
   "source": [
    "df.describe()"
   ]
  },
  {
   "cell_type": "code",
   "execution_count": 8,
   "metadata": {},
   "outputs": [
    {
     "data": {
      "text/plain": [
       "<Axes: ylabel='Age'>"
      ]
     },
     "execution_count": 8,
     "metadata": {},
     "output_type": "execute_result"
    },
    {
     "data": {
      "image/png": "[encoded data removed]",
      "text/plain": [
       "<Figure size 640x480 with 1 Axes>"
      ]
     },
     "metadata": {},
     "output_type": "display_data"
    }
   ],
   "source": [
    "sns.boxplot(df[\"Age\"],color=\"orange\")"
   ]
  },
  {
   "cell_type": "code",
   "execution_count": 9,
   "metadata": {},
   "outputs": [
    {
     "data": {
      "text/plain": [
       "<Axes: ylabel='EstimatedSalary'>"
      ]
     },
     "execution_count": 9,
     "metadata": {},
     "output_type": "execute_result"
    },
    {
     "data": {
      "image/png": "[encoded data removed]",
      "text/plain": [
       "<Figure size 640x480 with 1 Axes>"
      ]
     },
     "metadata": {},
     "output_type": "display_data"
    }
   ],
   "source": [
    "sns.boxplot(df[\"EstimatedSalary\"])"
   ]
  },
  {
   "cell_type": "code",
   "execution_count": 10,
   "metadata": {},
   "outputs": [
    {
     "data": {
      "text/plain": [
       "<Axes: >"
      ]
     },
     "execution_count": 10,
     "metadata": {},
     "output_type": "execute_result"
    },
    {
     "data": {
      "image/png": "[encoded data removed]",
      "text/plain": [
       "<Figure size 640x480 with 2 Axes>"
      ]
     },
     "metadata": {},
     "output_type": "display_data"
    }
   ],
   "source": [
    "sns.heatmap(df.corr(),annot=True)"
   ]
  },
  {
   "cell_type": "code",
   "execution_count": 11,
   "metadata": {},
   "outputs": [],
   "source": [
    "from sklearn.preprocessing import StandardScaler\n",
    "ss=StandardScaler()"
   ]
  },
  {
   "cell_type": "code",
   "execution_count": 12,
   "metadata": {},
   "outputs": [],
   "source": [
    "x=df.drop([\"Purchased\"],axis=1)\n",
    "y=df[\"Purchased\"]"
   ]
  },
  {
   "cell_type": "code",
   "execution_count": 13,
   "metadata": {},
   "outputs": [],
   "source": [
    "x=ss.fit_transform(x)"
   ]
  },
  {
   "cell_type": "code",
   "execution_count": 14,
   "metadata": {},
   "outputs": [],
   "source": [
    "from sklearn.model_selection import train_test_split\n",
    "x_train,x_test,y_train,y_test=train_test_split(x,y,test_size=0.2,random_state=42)"
   ]
  },
  {
   "cell_type": "code",
   "execution_count": 15,
   "metadata": {},
   "outputs": [],
   "source": [
    "from sklearn.ensemble import RandomForestRegressor\n",
    "rf=RandomForestRegressor(n_estimators=40,random_state=0)"
   ]
  },
  {
   "cell_type": "code",
   "execution_count": 16,
   "metadata": {},
   "outputs": [
    {
     "data": {
      "text/html": [
       "<style>#sk-container-id-1 {color: black;}#sk-container-id-1 pre{padding: 0;}#sk-container-id-1 div.sk-toggleable {background-color: white;}#sk-container-id-1 label.sk-toggleable__label {cursor: pointer;display: block;width: 100%;margin-bottom: 0;padding: 0.3em;box-sizing: border-box;text-align: center;}#sk-container-id-1 label.sk-toggleable__label-arrow:before {content: \"▸\";float: left;margin-right: 0.25em;color: #696969;}#sk-container-id-1 label.sk-toggleable__label-arrow:hover:before {color: black;}#sk-container-id-1 div.sk-estimator:hover label.sk-toggleable__label-arrow:before {color: black;}#sk-container-id-1 div.sk-toggleable__content {max-height: 0;max-width: 0;overflow: hidden;text-align: left;background-color: #f0f8ff;}#sk-container-id-1 div.sk-toggleable__content pre {margin: 0.2em;color: black;border-radius: 0.25em;background-color: #f0f8ff;}#sk-container-id-1 input.sk-toggleable__control:checked~div.sk-toggleable__content {max-height: 200px;max-width: 100%;overflow: auto;}#sk-container-id-1 input.sk-toggleable__control:checked~label.sk-toggleable__label-arrow:before {content: \"▾\";}#sk-container-id-1 div.sk-estimator input.sk-toggleable__control:checked~label.sk-toggleable__label {background-color: #d4ebff;}#sk-container-id-1 div.sk-label input.sk-toggleable__control:checked~label.sk-toggleable__label {background-color: #d4ebff;}#sk-container-id-1 input.sk-hidden--visually {border: 0;clip: rect(1px 1px 1px 1px);clip: rect(1px, 1px, 1px, 1px);height: 1px;margin: -1px;overflow: hidden;padding: 0;position: absolute;width: 1px;}#sk-container-id-1 div.sk-estimator {font-family: monospace;background-color: #f0f8ff;border: 1px dotted black;border-radius: 0.25em;box-sizing: border-box;margin-bottom: 0.5em;}#sk-container-id-1 div.sk-estimator:hover {background-color: #d4ebff;}#sk-container-id-1 div.sk-parallel-item::after {content: \"\";width: 100%;border-bottom: 1px solid gray;flex-grow: 1;}#sk-container-id-1 div.sk-label:hover label.sk-toggleable__label {background-color: #d4ebff;}#sk-container-id-1 div.sk-serial::before {content: \"\";position: absolute;border-left: 1px solid gray;box-sizing: border-box;top: 0;bottom: 0;left: 50%;z-index: 0;}#sk-container-id-1 div.sk-serial {display: flex;flex-direction: column;align-items: center;background-color: white;padding-right: 0.2em;padding-left: 0.2em;position: relative;}#sk-container-id-1 div.sk-item {position: relative;z-index: 1;}#sk-container-id-1 div.sk-parallel {display: flex;align-items: stretch;justify-content: center;background-color: white;position: relative;}#sk-container-id-1 div.sk-item::before, #sk-container-id-1 div.sk-parallel-item::before {content: \"\";position: absolute;border-left: 1px solid gray;box-sizing: border-box;top: 0;bottom: 0;left: 50%;z-index: -1;}#sk-container-id-1 div.sk-parallel-item {display: flex;flex-direction: column;z-index: 1;position: relative;background-color: white;}#sk-container-id-1 div.sk-parallel-item:first-child::after {align-self: flex-end;width: 50%;}#sk-container-id-1 div.sk-parallel-item:last-child::after {align-self: flex-start;width: 50%;}#sk-container-id-1 div.sk-parallel-item:only-child::after {width: 0;}#sk-container-id-1 div.sk-dashed-wrapped {border: 1px dashed gray;margin: 0 0.4em 0.5em 0.4em;box-sizing: border-box;padding-bottom: 0.4em;background-color: white;}#sk-container-id-1 div.sk-label label {font-family: monospace;font-weight: bold;display: inline-block;line-height: 1.2em;}#sk-container-id-1 div.sk-label-container {text-align: center;}#sk-container-id-1 div.sk-container {/* jupyter's `normalize.less` sets `[hidden] { display: none; }` but bootstrap.min.css set `[hidden] { display: none !important; }` so we also need the `!important` here to be able to override the default hidden behavior on the sphinx rendered scikit-learn.org. See: https://github.com/scikit-learn/scikit-learn/issues/21755 */display: inline-block !important;position: relative;}#sk-container-id-1 div.sk-text-repr-fallback {display: none;}</style><div id=\"sk-container-id-1\" class=\"sk-top-container\"><div class=\"sk-text-repr-fallback\"><pre>RandomForestRegressor(n_estimators=40, random_state=0)</pre><b>In a Jupyter environment, please rerun this cell to show the HTML representation or trust the notebook. <br />On GitHub, the HTML representation is unable to render, please try loading this page with nbviewer.org.</b></div><div class=\"sk-container\" hidden><div class=\"sk-item\"><div class=\"sk-estimator sk-toggleable\"><input class=\"sk-toggleable__control sk-hidden--visually\" id=\"sk-estimator-id-1\" type=\"checkbox\" checked><label for=\"sk-estimator-id-1\" class=\"sk-toggleable__label sk-toggleable__label-arrow\">RandomForestRegressor</label><div class=\"sk-toggleable__content\"><pre>RandomForestRegressor(n_estimators=40, random_state=0)</pre></div></div></div></div></div>"
      ],
      "text/plain": [
       "RandomForestRegressor(n_estimators=40, random_state=0)"
      ]
     },
     "execution_count": 16,
     "metadata": {},
     "output_type": "execute_result"
    }
   ],
   "source": [
    "rf.fit(x_train,y_train)"
   ]
  },
  {
   "cell_type": "code",
   "execution_count": 17,
   "metadata": {},
   "outputs": [
    {
     "data": {
      "image/svg+xml": [
       "<?xml version=\"1.0\" encoding=\"UTF-8\" standalone=\"no\"?>\n",
       "<!DOCTYPE svg PUBLIC \"-//W3C//DTD SVG 1.1//EN\"\n",
       " \"http://www.w3.org/Graphics/SVG/1.1/DTD/svg11.dtd\">\n",
       "<!-- Generated by graphviz version 2.43.0 (0)\n",
       " -->\n",
       "<!-- Title: Tree Pages: 1 -->\n",
       "<svg width=\"747pt\" height=\"311pt\"\n",
       " viewBox=\"0.00 0.00 747.00 311.00\" xmlns=\"http://www.w3.org/2000/svg\" xmlns:xlink=\"http://www.w3.org/1999/xlink\">\n",
       "<g id=\"graph0\" class=\"graph\" transform=\"scale(1 1) rotate(0) translate(4 307)\">\n",
       "<title>Tree</title>\n",
       "<polygon fill=\"white\" stroke=\"transparent\" points=\"-4,4 -4,-307 743,-307 743,4 -4,4\"/>\n",
       "<!-- 0 -->\n",
       "<g id=\"node1\" class=\"node\">\n",
       "<title>0</title>\n",
       "<polygon fill=\"#f6d4bc\" stroke=\"black\" points=\"488.5,-303 339.5,-303 339.5,-250 488.5,-250 488.5,-303\"/>\n",
       "<text text-anchor=\"middle\" x=\"414\" y=\"-287.8\" font-family=\"Helvetica,sans-Serif\" font-size=\"14.00\">Age &lt;= 0.367</text>\n",
       "<text text-anchor=\"middle\" x=\"414\" y=\"-272.8\" font-family=\"Helvetica,sans-Serif\" font-size=\"14.00\">samples = 100.0%</text>\n",
       "<text text-anchor=\"middle\" x=\"414\" y=\"-257.8\" font-family=\"Helvetica,sans-Serif\" font-size=\"14.00\">value = 0.341</text>\n",
       "</g>\n",
       "<!-- 1 -->\n",
       "<g id=\"node2\" class=\"node\">\n",
       "<title>1</title>\n",
       "<polygon fill=\"#fbece2\" stroke=\"black\" points=\"401,-214 207,-214 207,-161 401,-161 401,-214\"/>\n",
       "<text text-anchor=\"middle\" x=\"304\" y=\"-198.8\" font-family=\"Helvetica,sans-Serif\" font-size=\"14.00\">EstimatedSalary &lt;= 0.61</text>\n",
       "<text text-anchor=\"middle\" x=\"304\" y=\"-183.8\" font-family=\"Helvetica,sans-Serif\" font-size=\"14.00\">samples = 69.5%</text>\n",
       "<text text-anchor=\"middle\" x=\"304\" y=\"-168.8\" font-family=\"Helvetica,sans-Serif\" font-size=\"14.00\">value = 0.148</text>\n",
       "</g>\n",
       "<!-- 0&#45;&gt;1 -->\n",
       "<g id=\"edge1\" class=\"edge\">\n",
       "<title>0&#45;&gt;1</title>\n",
       "<path fill=\"none\" stroke=\"black\" d=\"M381.59,-249.87C369.95,-240.66 356.67,-230.15 344.42,-220.47\"/>\n",
       "<polygon fill=\"black\" stroke=\"black\" points=\"346.57,-217.71 336.56,-214.25 342.23,-223.2 346.57,-217.71\"/>\n",
       "<text text-anchor=\"middle\" x=\"339.46\" y=\"-235.38\" font-family=\"Helvetica,sans-Serif\" font-size=\"14.00\">True</text>\n",
       "</g>\n",
       "<!-- 20 -->\n",
       "<g id=\"node9\" class=\"node\">\n",
       "<title>20</title>\n",
       "<polygon fill=\"#eca26c\" stroke=\"black\" points=\"628.5,-214 419.5,-214 419.5,-161 628.5,-161 628.5,-214\"/>\n",
       "<text text-anchor=\"middle\" x=\"524\" y=\"-198.8\" font-family=\"Helvetica,sans-Serif\" font-size=\"14.00\">EstimatedSalary &lt;= &#45;0.917</text>\n",
       "<text text-anchor=\"middle\" x=\"524\" y=\"-183.8\" font-family=\"Helvetica,sans-Serif\" font-size=\"14.00\">samples = 30.5%</text>\n",
       "<text text-anchor=\"middle\" x=\"524\" y=\"-168.8\" font-family=\"Helvetica,sans-Serif\" font-size=\"14.00\">value = 0.74</text>\n",
       "</g>\n",
       "<!-- 0&#45;&gt;20 -->\n",
       "<g id=\"edge8\" class=\"edge\">\n",
       "<title>0&#45;&gt;20</title>\n",
       "<path fill=\"none\" stroke=\"black\" d=\"M446.41,-249.87C458.05,-240.66 471.33,-230.15 483.58,-220.47\"/>\n",
       "<polygon fill=\"black\" stroke=\"black\" points=\"485.77,-223.2 491.44,-214.25 481.43,-217.71 485.77,-223.2\"/>\n",
       "<text text-anchor=\"middle\" x=\"488.54\" y=\"-235.38\" font-family=\"Helvetica,sans-Serif\" font-size=\"14.00\">False</text>\n",
       "</g>\n",
       "<!-- 2 -->\n",
       "<g id=\"node3\" class=\"node\">\n",
       "<title>2</title>\n",
       "<polygon fill=\"#fefcfb\" stroke=\"black\" points=\"194,-125 0,-125 0,-72 194,-72 194,-125\"/>\n",
       "<text text-anchor=\"middle\" x=\"97\" y=\"-109.8\" font-family=\"Helvetica,sans-Serif\" font-size=\"14.00\">EstimatedSalary &lt;= 0.14</text>\n",
       "<text text-anchor=\"middle\" x=\"97\" y=\"-94.8\" font-family=\"Helvetica,sans-Serif\" font-size=\"14.00\">samples = 59.5%</text>\n",
       "<text text-anchor=\"middle\" x=\"97\" y=\"-79.8\" font-family=\"Helvetica,sans-Serif\" font-size=\"14.00\">value = 0.022</text>\n",
       "</g>\n",
       "<!-- 1&#45;&gt;2 -->\n",
       "<g id=\"edge2\" class=\"edge\">\n",
       "<title>1&#45;&gt;2</title>\n",
       "<path fill=\"none\" stroke=\"black\" d=\"M243.29,-160.98C219.39,-150.94 191.78,-139.34 167.04,-128.94\"/>\n",
       "<polygon fill=\"black\" stroke=\"black\" points=\"168.28,-125.66 157.71,-125.01 165.57,-132.12 168.28,-125.66\"/>\n",
       "</g>\n",
       "<!-- 13 -->\n",
       "<g id=\"node6\" class=\"node\">\n",
       "<title>13</title>\n",
       "<polygon fill=\"#ea975c\" stroke=\"black\" points=\"414.5,-125 211.5,-125 211.5,-72 414.5,-72 414.5,-125\"/>\n",
       "<text text-anchor=\"middle\" x=\"313\" y=\"-109.8\" font-family=\"Helvetica,sans-Serif\" font-size=\"14.00\">EstimatedSalary &lt;= 1.402</text>\n",
       "<text text-anchor=\"middle\" x=\"313\" y=\"-94.8\" font-family=\"Helvetica,sans-Serif\" font-size=\"14.00\">samples = 10.0%</text>\n",
       "<text text-anchor=\"middle\" x=\"313\" y=\"-79.8\" font-family=\"Helvetica,sans-Serif\" font-size=\"14.00\">value = 0.824</text>\n",
       "</g>\n",
       "<!-- 1&#45;&gt;13 -->\n",
       "<g id=\"edge5\" class=\"edge\">\n",
       "<title>1&#45;&gt;13</title>\n",
       "<path fill=\"none\" stroke=\"black\" d=\"M306.65,-160.87C307.48,-152.89 308.4,-143.93 309.29,-135.38\"/>\n",
       "<polygon fill=\"black\" stroke=\"black\" points=\"312.79,-135.56 310.34,-125.25 305.83,-134.84 312.79,-135.56\"/>\n",
       "</g>\n",
       "<!-- 3 -->\n",
       "<g id=\"node4\" class=\"node\">\n",
       "<title>3</title>\n",
       "<polygon fill=\"#c0c0c0\" stroke=\"black\" points=\"88,-36 34,-36 34,0 88,0 88,-36\"/>\n",
       "<text text-anchor=\"middle\" x=\"61\" y=\"-14.3\" font-family=\"Helvetica,sans-Serif\" font-size=\"14.00\">(...)</text>\n",
       "</g>\n",
       "<!-- 2&#45;&gt;3 -->\n",
       "<g id=\"edge3\" class=\"edge\">\n",
       "<title>2&#45;&gt;3</title>\n",
       "<path fill=\"none\" stroke=\"black\" d=\"M85.21,-71.8C81.34,-63.35 77.03,-53.95 73.13,-45.45\"/>\n",
       "<polygon fill=\"black\" stroke=\"black\" points=\"76.3,-43.96 68.95,-36.33 69.93,-46.88 76.3,-43.96\"/>\n",
       "</g>\n",
       "<!-- 4 -->\n",
       "<g id=\"node5\" class=\"node\">\n",
       "<title>4</title>\n",
       "<polygon fill=\"#c0c0c0\" stroke=\"black\" points=\"160,-36 106,-36 106,0 160,0 160,-36\"/>\n",
       "<text text-anchor=\"middle\" x=\"133\" y=\"-14.3\" font-family=\"Helvetica,sans-Serif\" font-size=\"14.00\">(...)</text>\n",
       "</g>\n",
       "<!-- 2&#45;&gt;4 -->\n",
       "<g id=\"edge4\" class=\"edge\">\n",
       "<title>2&#45;&gt;4</title>\n",
       "<path fill=\"none\" stroke=\"black\" d=\"M108.79,-71.8C112.66,-63.35 116.97,-53.95 120.87,-45.45\"/>\n",
       "<polygon fill=\"black\" stroke=\"black\" points=\"124.07,-46.88 125.05,-36.33 117.7,-43.96 124.07,-46.88\"/>\n",
       "</g>\n",
       "<!-- 14 -->\n",
       "<g id=\"node7\" class=\"node\">\n",
       "<title>14</title>\n",
       "<polygon fill=\"#c0c0c0\" stroke=\"black\" points=\"304,-36 250,-36 250,0 304,0 304,-36\"/>\n",
       "<text text-anchor=\"middle\" x=\"277\" y=\"-14.3\" font-family=\"Helvetica,sans-Serif\" font-size=\"14.00\">(...)</text>\n",
       "</g>\n",
       "<!-- 13&#45;&gt;14 -->\n",
       "<g id=\"edge6\" class=\"edge\">\n",
       "<title>13&#45;&gt;14</title>\n",
       "<path fill=\"none\" stroke=\"black\" d=\"M301.21,-71.8C297.34,-63.35 293.03,-53.95 289.13,-45.45\"/>\n",
       "<polygon fill=\"black\" stroke=\"black\" points=\"292.3,-43.96 284.95,-36.33 285.93,-46.88 292.3,-43.96\"/>\n",
       "</g>\n",
       "<!-- 19 -->\n",
       "<g id=\"node8\" class=\"node\">\n",
       "<title>19</title>\n",
       "<polygon fill=\"#c0c0c0\" stroke=\"black\" points=\"376,-36 322,-36 322,0 376,0 376,-36\"/>\n",
       "<text text-anchor=\"middle\" x=\"349\" y=\"-14.3\" font-family=\"Helvetica,sans-Serif\" font-size=\"14.00\">(...)</text>\n",
       "</g>\n",
       "<!-- 13&#45;&gt;19 -->\n",
       "<g id=\"edge7\" class=\"edge\">\n",
       "<title>13&#45;&gt;19</title>\n",
       "<path fill=\"none\" stroke=\"black\" d=\"M324.79,-71.8C328.66,-63.35 332.97,-53.95 336.87,-45.45\"/>\n",
       "<polygon fill=\"black\" stroke=\"black\" points=\"340.07,-46.88 341.05,-36.33 333.7,-43.96 340.07,-46.88\"/>\n",
       "</g>\n",
       "<!-- 21 -->\n",
       "<g id=\"node10\" class=\"node\">\n",
       "<title>21</title>\n",
       "<polygon fill=\"#e58139\" stroke=\"black\" points=\"580.5,-117.5 449.5,-117.5 449.5,-79.5 580.5,-79.5 580.5,-117.5\"/>\n",
       "<text text-anchor=\"middle\" x=\"515\" y=\"-102.3\" font-family=\"Helvetica,sans-Serif\" font-size=\"14.00\">samples = 8.5%</text>\n",
       "<text text-anchor=\"middle\" x=\"515\" y=\"-87.3\" font-family=\"Helvetica,sans-Serif\" font-size=\"14.00\">value = 1.0</text>\n",
       "</g>\n",
       "<!-- 20&#45;&gt;21 -->\n",
       "<g id=\"edge9\" class=\"edge\">\n",
       "<title>20&#45;&gt;21</title>\n",
       "<path fill=\"none\" stroke=\"black\" d=\"M521.35,-160.87C520.27,-150.42 519.01,-138.3 517.91,-127.61\"/>\n",
       "<polygon fill=\"black\" stroke=\"black\" points=\"521.37,-127.09 516.86,-117.51 514.41,-127.81 521.37,-127.09\"/>\n",
       "</g>\n",
       "<!-- 22 -->\n",
       "<g id=\"node11\" class=\"node\">\n",
       "<title>22</title>\n",
       "<polygon fill=\"#eead7e\" stroke=\"black\" points=\"739,-125 599,-125 599,-72 739,-72 739,-125\"/>\n",
       "<text text-anchor=\"middle\" x=\"669\" y=\"-109.8\" font-family=\"Helvetica,sans-Serif\" font-size=\"14.00\">Age &lt;= 1.418</text>\n",
       "<text text-anchor=\"middle\" x=\"669\" y=\"-94.8\" font-family=\"Helvetica,sans-Serif\" font-size=\"14.00\">samples = 22.0%</text>\n",
       "<text text-anchor=\"middle\" x=\"669\" y=\"-79.8\" font-family=\"Helvetica,sans-Serif\" font-size=\"14.00\">value = 0.654</text>\n",
       "</g>\n",
       "<!-- 20&#45;&gt;22 -->\n",
       "<g id=\"edge10\" class=\"edge\">\n",
       "<title>20&#45;&gt;22</title>\n",
       "<path fill=\"none\" stroke=\"black\" d=\"M566.72,-160.87C582.51,-151.39 600.58,-140.55 617.09,-130.64\"/>\n",
       "<polygon fill=\"black\" stroke=\"black\" points=\"619.31,-133.4 626.08,-125.25 615.71,-127.39 619.31,-133.4\"/>\n",
       "</g>\n",
       "<!-- 23 -->\n",
       "<g id=\"node12\" class=\"node\">\n",
       "<title>23</title>\n",
       "<polygon fill=\"#c0c0c0\" stroke=\"black\" points=\"660,-36 606,-36 606,0 660,0 660,-36\"/>\n",
       "<text text-anchor=\"middle\" x=\"633\" y=\"-14.3\" font-family=\"Helvetica,sans-Serif\" font-size=\"14.00\">(...)</text>\n",
       "</g>\n",
       "<!-- 22&#45;&gt;23 -->\n",
       "<g id=\"edge11\" class=\"edge\">\n",
       "<title>22&#45;&gt;23</title>\n",
       "<path fill=\"none\" stroke=\"black\" d=\"M657.21,-71.8C653.34,-63.35 649.03,-53.95 645.13,-45.45\"/>\n",
       "<polygon fill=\"black\" stroke=\"black\" points=\"648.3,-43.96 640.95,-36.33 641.93,-46.88 648.3,-43.96\"/>\n",
       "</g>\n",
       "<!-- 52 -->\n",
       "<g id=\"node13\" class=\"node\">\n",
       "<title>52</title>\n",
       "<polygon fill=\"#c0c0c0\" stroke=\"black\" points=\"732,-36 678,-36 678,0 732,0 732,-36\"/>\n",
       "<text text-anchor=\"middle\" x=\"705\" y=\"-14.3\" font-family=\"Helvetica,sans-Serif\" font-size=\"14.00\">(...)</text>\n",
       "</g>\n",
       "<!-- 22&#45;&gt;52 -->\n",
       "<g id=\"edge12\" class=\"edge\">\n",
       "<title>22&#45;&gt;52</title>\n",
       "<path fill=\"none\" stroke=\"black\" d=\"M680.79,-71.8C684.66,-63.35 688.97,-53.95 692.87,-45.45\"/>\n",
       "<polygon fill=\"black\" stroke=\"black\" points=\"696.07,-46.88 697.05,-36.33 689.7,-43.96 696.07,-46.88\"/>\n",
       "</g>\n",
       "</g>\n",
       "</svg>\n"
      ],
      "text/plain": [
       "<graphviz.sources.Source at 0x7f8a29e6e640>"
      ]
     },
     "metadata": {},
     "output_type": "display_data"
    },
    {
     "data": {
      "image/svg+xml": [
       "<?xml version=\"1.0\" encoding=\"UTF-8\" standalone=\"no\"?>\n",
       "<!DOCTYPE svg PUBLIC \"-//W3C//DTD SVG 1.1//EN\"\n",
       " \"http://www.w3.org/Graphics/SVG/1.1/DTD/svg11.dtd\">\n",
       "<!-- Generated by graphviz version 2.43.0 (0)\n",
       " -->\n",
       "<!-- Title: Tree Pages: 1 -->\n",
       "<svg width=\"746pt\" height=\"311pt\"\n",
       " viewBox=\"0.00 0.00 745.50 311.00\" xmlns=\"http://www.w3.org/2000/svg\" xmlns:xlink=\"http://www.w3.org/1999/xlink\">\n",
       "<g id=\"graph0\" class=\"graph\" transform=\"scale(1 1) rotate(0) translate(4 307)\">\n",
       "<title>Tree</title>\n",
       "<polygon fill=\"white\" stroke=\"transparent\" points=\"-4,4 -4,-307 741.5,-307 741.5,4 -4,4\"/>\n",
       "<!-- 0 -->\n",
       "<g id=\"node1\" class=\"node\">\n",
       "<title>0</title>\n",
       "<polygon fill=\"#f6d3ba\" stroke=\"black\" points=\"472,-303 278,-303 278,-250 472,-250 472,-303\"/>\n",
       "<text text-anchor=\"middle\" x=\"375\" y=\"-287.8\" font-family=\"Helvetica,sans-Serif\" font-size=\"14.00\">EstimatedSalary &lt;= 0.61</text>\n",
       "<text text-anchor=\"middle\" x=\"375\" y=\"-272.8\" font-family=\"Helvetica,sans-Serif\" font-size=\"14.00\">samples = 100.0%</text>\n",
       "<text text-anchor=\"middle\" x=\"375\" y=\"-257.8\" font-family=\"Helvetica,sans-Serif\" font-size=\"14.00\">value = 0.347</text>\n",
       "</g>\n",
       "<!-- 1 -->\n",
       "<g id=\"node2\" class=\"node\">\n",
       "<title>1</title>\n",
       "<polygon fill=\"#fbe9dd\" stroke=\"black\" points=\"333,-214 193,-214 193,-161 333,-161 333,-214\"/>\n",
       "<text text-anchor=\"middle\" x=\"263\" y=\"-198.8\" font-family=\"Helvetica,sans-Serif\" font-size=\"14.00\">Age &lt;= 0.654</text>\n",
       "<text text-anchor=\"middle\" x=\"263\" y=\"-183.8\" font-family=\"Helvetica,sans-Serif\" font-size=\"14.00\">samples = 75.2%</text>\n",
       "<text text-anchor=\"middle\" x=\"263\" y=\"-168.8\" font-family=\"Helvetica,sans-Serif\" font-size=\"14.00\">value = 0.172</text>\n",
       "</g>\n",
       "<!-- 0&#45;&gt;1 -->\n",
       "<g id=\"edge1\" class=\"edge\">\n",
       "<title>0&#45;&gt;1</title>\n",
       "<path fill=\"none\" stroke=\"black\" d=\"M342,-249.87C330.15,-240.66 316.62,-230.15 304.16,-220.47\"/>\n",
       "<polygon fill=\"black\" stroke=\"black\" points=\"306.19,-217.62 296.15,-214.25 301.9,-223.15 306.19,-217.62\"/>\n",
       "<text text-anchor=\"middle\" x=\"299.27\" y=\"-235.35\" font-family=\"Helvetica,sans-Serif\" font-size=\"14.00\">True</text>\n",
       "</g>\n",
       "<!-- 42 -->\n",
       "<g id=\"node9\" class=\"node\">\n",
       "<title>42</title>\n",
       "<polygon fill=\"#e99356\" stroke=\"black\" points=\"588.5,-214 385.5,-214 385.5,-161 588.5,-161 588.5,-214\"/>\n",
       "<text text-anchor=\"middle\" x=\"487\" y=\"-198.8\" font-family=\"Helvetica,sans-Serif\" font-size=\"14.00\">EstimatedSalary &lt;= 2.107</text>\n",
       "<text text-anchor=\"middle\" x=\"487\" y=\"-183.8\" font-family=\"Helvetica,sans-Serif\" font-size=\"14.00\">samples = 24.8%</text>\n",
       "<text text-anchor=\"middle\" x=\"487\" y=\"-168.8\" font-family=\"Helvetica,sans-Serif\" font-size=\"14.00\">value = 0.854</text>\n",
       "</g>\n",
       "<!-- 0&#45;&gt;42 -->\n",
       "<g id=\"edge8\" class=\"edge\">\n",
       "<title>0&#45;&gt;42</title>\n",
       "<path fill=\"none\" stroke=\"black\" d=\"M408,-249.87C419.85,-240.66 433.38,-230.15 445.84,-220.47\"/>\n",
       "<polygon fill=\"black\" stroke=\"black\" points=\"448.1,-223.15 453.85,-214.25 443.81,-217.62 448.1,-223.15\"/>\n",
       "<text text-anchor=\"middle\" x=\"450.73\" y=\"-235.35\" font-family=\"Helvetica,sans-Serif\" font-size=\"14.00\">False</text>\n",
       "</g>\n",
       "<!-- 2 -->\n",
       "<g id=\"node3\" class=\"node\">\n",
       "<title>2</title>\n",
       "<polygon fill=\"#fefbf9\" stroke=\"black\" points=\"140,-125 0,-125 0,-72 140,-72 140,-125\"/>\n",
       "<text text-anchor=\"middle\" x=\"70\" y=\"-109.8\" font-family=\"Helvetica,sans-Serif\" font-size=\"14.00\">Age &lt;= &#45;0.11</text>\n",
       "<text text-anchor=\"middle\" x=\"70\" y=\"-94.8\" font-family=\"Helvetica,sans-Serif\" font-size=\"14.00\">samples = 58.9%</text>\n",
       "<text text-anchor=\"middle\" x=\"70\" y=\"-79.8\" font-family=\"Helvetica,sans-Serif\" font-size=\"14.00\">value = 0.031</text>\n",
       "</g>\n",
       "<!-- 1&#45;&gt;2 -->\n",
       "<g id=\"edge2\" class=\"edge\">\n",
       "<title>1&#45;&gt;2</title>\n",
       "<path fill=\"none\" stroke=\"black\" d=\"M206.4,-160.98C184.3,-151.03 158.82,-139.54 135.91,-129.21\"/>\n",
       "<polygon fill=\"black\" stroke=\"black\" points=\"137.16,-125.93 126.6,-125.01 134.28,-132.31 137.16,-125.93\"/>\n",
       "</g>\n",
       "<!-- 23 -->\n",
       "<g id=\"node6\" class=\"node\">\n",
       "<title>23</title>\n",
       "<polygon fill=\"#eca16c\" stroke=\"black\" points=\"367.5,-125 158.5,-125 158.5,-72 367.5,-72 367.5,-125\"/>\n",
       "<text text-anchor=\"middle\" x=\"263\" y=\"-109.8\" font-family=\"Helvetica,sans-Serif\" font-size=\"14.00\">EstimatedSalary &lt;= &#45;0.859</text>\n",
       "<text text-anchor=\"middle\" x=\"263\" y=\"-94.8\" font-family=\"Helvetica,sans-Serif\" font-size=\"14.00\">samples = 16.3%</text>\n",
       "<text text-anchor=\"middle\" x=\"263\" y=\"-79.8\" font-family=\"Helvetica,sans-Serif\" font-size=\"14.00\">value = 0.745</text>\n",
       "</g>\n",
       "<!-- 1&#45;&gt;23 -->\n",
       "<g id=\"edge5\" class=\"edge\">\n",
       "<title>1&#45;&gt;23</title>\n",
       "<path fill=\"none\" stroke=\"black\" d=\"M263,-160.87C263,-152.89 263,-143.93 263,-135.38\"/>\n",
       "<polygon fill=\"black\" stroke=\"black\" points=\"266.5,-135.25 263,-125.25 259.5,-135.25 266.5,-135.25\"/>\n",
       "</g>\n",
       "<!-- 3 -->\n",
       "<g id=\"node4\" class=\"node\">\n",
       "<title>3</title>\n",
       "<polygon fill=\"#c0c0c0\" stroke=\"black\" points=\"61,-36 7,-36 7,0 61,0 61,-36\"/>\n",
       "<text text-anchor=\"middle\" x=\"34\" y=\"-14.3\" font-family=\"Helvetica,sans-Serif\" font-size=\"14.00\">(...)</text>\n",
       "</g>\n",
       "<!-- 2&#45;&gt;3 -->\n",
       "<g id=\"edge3\" class=\"edge\">\n",
       "<title>2&#45;&gt;3</title>\n",
       "<path fill=\"none\" stroke=\"black\" d=\"M58.21,-71.8C54.34,-63.35 50.03,-53.95 46.13,-45.45\"/>\n",
       "<polygon fill=\"black\" stroke=\"black\" points=\"49.3,-43.96 41.95,-36.33 42.93,-46.88 49.3,-43.96\"/>\n",
       "</g>\n",
       "<!-- 4 -->\n",
       "<g id=\"node5\" class=\"node\">\n",
       "<title>4</title>\n",
       "<polygon fill=\"#c0c0c0\" stroke=\"black\" points=\"133,-36 79,-36 79,0 133,0 133,-36\"/>\n",
       "<text text-anchor=\"middle\" x=\"106\" y=\"-14.3\" font-family=\"Helvetica,sans-Serif\" font-size=\"14.00\">(...)</text>\n",
       "</g>\n",
       "<!-- 2&#45;&gt;4 -->\n",
       "<g id=\"edge4\" class=\"edge\">\n",
       "<title>2&#45;&gt;4</title>\n",
       "<path fill=\"none\" stroke=\"black\" d=\"M81.79,-71.8C85.66,-63.35 89.97,-53.95 93.87,-45.45\"/>\n",
       "<polygon fill=\"black\" stroke=\"black\" points=\"97.07,-46.88 98.05,-36.33 90.7,-43.96 97.07,-46.88\"/>\n",
       "</g>\n",
       "<!-- 24 -->\n",
       "<g id=\"node7\" class=\"node\">\n",
       "<title>24</title>\n",
       "<polygon fill=\"#c0c0c0\" stroke=\"black\" points=\"254,-36 200,-36 200,0 254,0 254,-36\"/>\n",
       "<text text-anchor=\"middle\" x=\"227\" y=\"-14.3\" font-family=\"Helvetica,sans-Serif\" font-size=\"14.00\">(...)</text>\n",
       "</g>\n",
       "<!-- 23&#45;&gt;24 -->\n",
       "<g id=\"edge6\" class=\"edge\">\n",
       "<title>23&#45;&gt;24</title>\n",
       "<path fill=\"none\" stroke=\"black\" d=\"M251.21,-71.8C247.34,-63.35 243.03,-53.95 239.13,-45.45\"/>\n",
       "<polygon fill=\"black\" stroke=\"black\" points=\"242.3,-43.96 234.95,-36.33 235.93,-46.88 242.3,-43.96\"/>\n",
       "</g>\n",
       "<!-- 25 -->\n",
       "<g id=\"node8\" class=\"node\">\n",
       "<title>25</title>\n",
       "<polygon fill=\"#c0c0c0\" stroke=\"black\" points=\"326,-36 272,-36 272,0 326,0 326,-36\"/>\n",
       "<text text-anchor=\"middle\" x=\"299\" y=\"-14.3\" font-family=\"Helvetica,sans-Serif\" font-size=\"14.00\">(...)</text>\n",
       "</g>\n",
       "<!-- 23&#45;&gt;25 -->\n",
       "<g id=\"edge7\" class=\"edge\">\n",
       "<title>23&#45;&gt;25</title>\n",
       "<path fill=\"none\" stroke=\"black\" d=\"M274.79,-71.8C278.66,-63.35 282.97,-53.95 286.87,-45.45\"/>\n",
       "<polygon fill=\"black\" stroke=\"black\" points=\"290.07,-46.88 291.05,-36.33 283.7,-43.96 290.07,-46.88\"/>\n",
       "</g>\n",
       "<!-- 43 -->\n",
       "<g id=\"node10\" class=\"node\">\n",
       "<title>43</title>\n",
       "<polygon fill=\"#ea9a61\" stroke=\"black\" points=\"588.5,-125 385.5,-125 385.5,-72 588.5,-72 588.5,-125\"/>\n",
       "<text text-anchor=\"middle\" x=\"487\" y=\"-109.8\" font-family=\"Helvetica,sans-Serif\" font-size=\"14.00\">EstimatedSalary &lt;= 1.182</text>\n",
       "<text text-anchor=\"middle\" x=\"487\" y=\"-94.8\" font-family=\"Helvetica,sans-Serif\" font-size=\"14.00\">samples = 19.8%</text>\n",
       "<text text-anchor=\"middle\" x=\"487\" y=\"-79.8\" font-family=\"Helvetica,sans-Serif\" font-size=\"14.00\">value = 0.8</text>\n",
       "</g>\n",
       "<!-- 42&#45;&gt;43 -->\n",
       "<g id=\"edge9\" class=\"edge\">\n",
       "<title>42&#45;&gt;43</title>\n",
       "<path fill=\"none\" stroke=\"black\" d=\"M487,-160.87C487,-152.89 487,-143.93 487,-135.38\"/>\n",
       "<polygon fill=\"black\" stroke=\"black\" points=\"490.5,-135.25 487,-125.25 483.5,-135.25 490.5,-135.25\"/>\n",
       "</g>\n",
       "<!-- 70 -->\n",
       "<g id=\"node13\" class=\"node\">\n",
       "<title>70</title>\n",
       "<polygon fill=\"#e58139\" stroke=\"black\" points=\"737.5,-117.5 606.5,-117.5 606.5,-79.5 737.5,-79.5 737.5,-117.5\"/>\n",
       "<text text-anchor=\"middle\" x=\"672\" y=\"-102.3\" font-family=\"Helvetica,sans-Serif\" font-size=\"14.00\">samples = 5.0%</text>\n",
       "<text text-anchor=\"middle\" x=\"672\" y=\"-87.3\" font-family=\"Helvetica,sans-Serif\" font-size=\"14.00\">value = 1.0</text>\n",
       "</g>\n",
       "<!-- 42&#45;&gt;70 -->\n",
       "<g id=\"edge12\" class=\"edge\">\n",
       "<title>42&#45;&gt;70</title>\n",
       "<path fill=\"none\" stroke=\"black\" d=\"M541.51,-160.87C567.89,-148.46 599.28,-133.7 624.65,-121.77\"/>\n",
       "<polygon fill=\"black\" stroke=\"black\" points=\"626.15,-124.93 633.71,-117.51 623.17,-118.6 626.15,-124.93\"/>\n",
       "</g>\n",
       "<!-- 44 -->\n",
       "<g id=\"node11\" class=\"node\">\n",
       "<title>44</title>\n",
       "<polygon fill=\"#c0c0c0\" stroke=\"black\" points=\"478,-36 424,-36 424,0 478,0 478,-36\"/>\n",
       "<text text-anchor=\"middle\" x=\"451\" y=\"-14.3\" font-family=\"Helvetica,sans-Serif\" font-size=\"14.00\">(...)</text>\n",
       "</g>\n",
       "<!-- 43&#45;&gt;44 -->\n",
       "<g id=\"edge10\" class=\"edge\">\n",
       "<title>43&#45;&gt;44</title>\n",
       "<path fill=\"none\" stroke=\"black\" d=\"M475.21,-71.8C471.34,-63.35 467.03,-53.95 463.13,-45.45\"/>\n",
       "<polygon fill=\"black\" stroke=\"black\" points=\"466.3,-43.96 458.95,-36.33 459.93,-46.88 466.3,-43.96\"/>\n",
       "</g>\n",
       "<!-- 45 -->\n",
       "<g id=\"node12\" class=\"node\">\n",
       "<title>45</title>\n",
       "<polygon fill=\"#c0c0c0\" stroke=\"black\" points=\"550,-36 496,-36 496,0 550,0 550,-36\"/>\n",
       "<text text-anchor=\"middle\" x=\"523\" y=\"-14.3\" font-family=\"Helvetica,sans-Serif\" font-size=\"14.00\">(...)</text>\n",
       "</g>\n",
       "<!-- 43&#45;&gt;45 -->\n",
       "<g id=\"edge11\" class=\"edge\">\n",
       "<title>43&#45;&gt;45</title>\n",
       "<path fill=\"none\" stroke=\"black\" d=\"M498.79,-71.8C502.66,-63.35 506.97,-53.95 510.87,-45.45\"/>\n",
       "<polygon fill=\"black\" stroke=\"black\" points=\"514.07,-46.88 515.05,-36.33 507.7,-43.96 514.07,-46.88\"/>\n",
       "</g>\n",
       "</g>\n",
       "</svg>\n"
      ],
      "text/plain": [
       "<graphviz.sources.Source at 0x7f8a298e0eb0>"
      ]
     },
     "metadata": {},
     "output_type": "display_data"
    },
    {
     "data": {
      "image/svg+xml": [
       "<?xml version=\"1.0\" encoding=\"UTF-8\" standalone=\"no\"?>\n",
       "<!DOCTYPE svg PUBLIC \"-//W3C//DTD SVG 1.1//EN\"\n",
       " \"http://www.w3.org/Graphics/SVG/1.1/DTD/svg11.dtd\">\n",
       "<!-- Generated by graphviz version 2.43.0 (0)\n",
       " -->\n",
       "<!-- Title: Tree Pages: 1 -->\n",
       "<svg width=\"755pt\" height=\"311pt\"\n",
       " viewBox=\"0.00 0.00 755.00 311.00\" xmlns=\"http://www.w3.org/2000/svg\" xmlns:xlink=\"http://www.w3.org/1999/xlink\">\n",
       "<g id=\"graph0\" class=\"graph\" transform=\"scale(1 1) rotate(0) translate(4 307)\">\n",
       "<title>Tree</title>\n",
       "<polygon fill=\"white\" stroke=\"transparent\" points=\"-4,4 -4,-307 751,-307 751,4 -4,4\"/>\n",
       "<!-- 0 -->\n",
       "<g id=\"node1\" class=\"node\">\n",
       "<title>0</title>\n",
       "<polygon fill=\"#f7d7c0\" stroke=\"black\" points=\"476.5,-303 273.5,-303 273.5,-250 476.5,-250 476.5,-303\"/>\n",
       "<text text-anchor=\"middle\" x=\"375\" y=\"-287.8\" font-family=\"Helvetica,sans-Serif\" font-size=\"14.00\">EstimatedSalary &lt;= 0.595</text>\n",
       "<text text-anchor=\"middle\" x=\"375\" y=\"-272.8\" font-family=\"Helvetica,sans-Serif\" font-size=\"14.00\">samples = 100.0%</text>\n",
       "<text text-anchor=\"middle\" x=\"375\" y=\"-257.8\" font-family=\"Helvetica,sans-Serif\" font-size=\"14.00\">value = 0.319</text>\n",
       "</g>\n",
       "<!-- 1 -->\n",
       "<g id=\"node2\" class=\"node\">\n",
       "<title>1</title>\n",
       "<polygon fill=\"#fae9dc\" stroke=\"black\" points=\"333,-214 193,-214 193,-161 333,-161 333,-214\"/>\n",
       "<text text-anchor=\"middle\" x=\"263\" y=\"-198.8\" font-family=\"Helvetica,sans-Serif\" font-size=\"14.00\">Age &lt;= 0.558</text>\n",
       "<text text-anchor=\"middle\" x=\"263\" y=\"-183.8\" font-family=\"Helvetica,sans-Serif\" font-size=\"14.00\">samples = 78.7%</text>\n",
       "<text text-anchor=\"middle\" x=\"263\" y=\"-168.8\" font-family=\"Helvetica,sans-Serif\" font-size=\"14.00\">value = 0.178</text>\n",
       "</g>\n",
       "<!-- 0&#45;&gt;1 -->\n",
       "<g id=\"edge1\" class=\"edge\">\n",
       "<title>0&#45;&gt;1</title>\n",
       "<path fill=\"none\" stroke=\"black\" d=\"M342,-249.87C330.15,-240.66 316.62,-230.15 304.16,-220.47\"/>\n",
       "<polygon fill=\"black\" stroke=\"black\" points=\"306.19,-217.62 296.15,-214.25 301.9,-223.15 306.19,-217.62\"/>\n",
       "<text text-anchor=\"middle\" x=\"299.27\" y=\"-235.35\" font-family=\"Helvetica,sans-Serif\" font-size=\"14.00\">True</text>\n",
       "</g>\n",
       "<!-- 44 -->\n",
       "<g id=\"node9\" class=\"node\">\n",
       "<title>44</title>\n",
       "<polygon fill=\"#e99457\" stroke=\"black\" points=\"557,-214 417,-214 417,-161 557,-161 557,-214\"/>\n",
       "<text text-anchor=\"middle\" x=\"487\" y=\"-198.8\" font-family=\"Helvetica,sans-Serif\" font-size=\"14.00\">Age &lt;= &#45;0.636</text>\n",
       "<text text-anchor=\"middle\" x=\"487\" y=\"-183.8\" font-family=\"Helvetica,sans-Serif\" font-size=\"14.00\">samples = 21.3%</text>\n",
       "<text text-anchor=\"middle\" x=\"487\" y=\"-168.8\" font-family=\"Helvetica,sans-Serif\" font-size=\"14.00\">value = 0.851</text>\n",
       "</g>\n",
       "<!-- 0&#45;&gt;44 -->\n",
       "<g id=\"edge8\" class=\"edge\">\n",
       "<title>0&#45;&gt;44</title>\n",
       "<path fill=\"none\" stroke=\"black\" d=\"M408,-249.87C419.85,-240.66 433.38,-230.15 445.84,-220.47\"/>\n",
       "<polygon fill=\"black\" stroke=\"black\" points=\"448.1,-223.15 453.85,-214.25 443.81,-217.62 448.1,-223.15\"/>\n",
       "<text text-anchor=\"middle\" x=\"450.73\" y=\"-235.35\" font-family=\"Helvetica,sans-Serif\" font-size=\"14.00\">False</text>\n",
       "</g>\n",
       "<!-- 2 -->\n",
       "<g id=\"node3\" class=\"node\">\n",
       "<title>2</title>\n",
       "<polygon fill=\"#fef9f6\" stroke=\"black\" points=\"140,-125 0,-125 0,-72 140,-72 140,-125\"/>\n",
       "<text text-anchor=\"middle\" x=\"70\" y=\"-109.8\" font-family=\"Helvetica,sans-Serif\" font-size=\"14.00\">Age &lt;= &#45;0.11</text>\n",
       "<text text-anchor=\"middle\" x=\"70\" y=\"-94.8\" font-family=\"Helvetica,sans-Serif\" font-size=\"14.00\">samples = 62.4%</text>\n",
       "<text text-anchor=\"middle\" x=\"70\" y=\"-79.8\" font-family=\"Helvetica,sans-Serif\" font-size=\"14.00\">value = 0.048</text>\n",
       "</g>\n",
       "<!-- 1&#45;&gt;2 -->\n",
       "<g id=\"edge2\" class=\"edge\">\n",
       "<title>1&#45;&gt;2</title>\n",
       "<path fill=\"none\" stroke=\"black\" d=\"M206.4,-160.98C184.3,-151.03 158.82,-139.54 135.91,-129.21\"/>\n",
       "<polygon fill=\"black\" stroke=\"black\" points=\"137.16,-125.93 126.6,-125.01 134.28,-132.31 137.16,-125.93\"/>\n",
       "</g>\n",
       "<!-- 25 -->\n",
       "<g id=\"node6\" class=\"node\">\n",
       "<title>25</title>\n",
       "<polygon fill=\"#ea9b62\" stroke=\"black\" points=\"367.5,-125 158.5,-125 158.5,-72 367.5,-72 367.5,-125\"/>\n",
       "<text text-anchor=\"middle\" x=\"263\" y=\"-109.8\" font-family=\"Helvetica,sans-Serif\" font-size=\"14.00\">EstimatedSalary &lt;= &#45;0.859</text>\n",
       "<text text-anchor=\"middle\" x=\"263\" y=\"-94.8\" font-family=\"Helvetica,sans-Serif\" font-size=\"14.00\">samples = 16.2%</text>\n",
       "<text text-anchor=\"middle\" x=\"263\" y=\"-79.8\" font-family=\"Helvetica,sans-Serif\" font-size=\"14.00\">value = 0.795</text>\n",
       "</g>\n",
       "<!-- 1&#45;&gt;25 -->\n",
       "<g id=\"edge5\" class=\"edge\">\n",
       "<title>1&#45;&gt;25</title>\n",
       "<path fill=\"none\" stroke=\"black\" d=\"M263,-160.87C263,-152.89 263,-143.93 263,-135.38\"/>\n",
       "<polygon fill=\"black\" stroke=\"black\" points=\"266.5,-135.25 263,-125.25 259.5,-135.25 266.5,-135.25\"/>\n",
       "</g>\n",
       "<!-- 3 -->\n",
       "<g id=\"node4\" class=\"node\">\n",
       "<title>3</title>\n",
       "<polygon fill=\"#c0c0c0\" stroke=\"black\" points=\"61,-36 7,-36 7,0 61,0 61,-36\"/>\n",
       "<text text-anchor=\"middle\" x=\"34\" y=\"-14.3\" font-family=\"Helvetica,sans-Serif\" font-size=\"14.00\">(...)</text>\n",
       "</g>\n",
       "<!-- 2&#45;&gt;3 -->\n",
       "<g id=\"edge3\" class=\"edge\">\n",
       "<title>2&#45;&gt;3</title>\n",
       "<path fill=\"none\" stroke=\"black\" d=\"M58.21,-71.8C54.34,-63.35 50.03,-53.95 46.13,-45.45\"/>\n",
       "<polygon fill=\"black\" stroke=\"black\" points=\"49.3,-43.96 41.95,-36.33 42.93,-46.88 49.3,-43.96\"/>\n",
       "</g>\n",
       "<!-- 4 -->\n",
       "<g id=\"node5\" class=\"node\">\n",
       "<title>4</title>\n",
       "<polygon fill=\"#c0c0c0\" stroke=\"black\" points=\"133,-36 79,-36 79,0 133,0 133,-36\"/>\n",
       "<text text-anchor=\"middle\" x=\"106\" y=\"-14.3\" font-family=\"Helvetica,sans-Serif\" font-size=\"14.00\">(...)</text>\n",
       "</g>\n",
       "<!-- 2&#45;&gt;4 -->\n",
       "<g id=\"edge4\" class=\"edge\">\n",
       "<title>2&#45;&gt;4</title>\n",
       "<path fill=\"none\" stroke=\"black\" d=\"M81.79,-71.8C85.66,-63.35 89.97,-53.95 93.87,-45.45\"/>\n",
       "<polygon fill=\"black\" stroke=\"black\" points=\"97.07,-46.88 98.05,-36.33 90.7,-43.96 97.07,-46.88\"/>\n",
       "</g>\n",
       "<!-- 26 -->\n",
       "<g id=\"node7\" class=\"node\">\n",
       "<title>26</title>\n",
       "<polygon fill=\"#c0c0c0\" stroke=\"black\" points=\"254,-36 200,-36 200,0 254,0 254,-36\"/>\n",
       "<text text-anchor=\"middle\" x=\"227\" y=\"-14.3\" font-family=\"Helvetica,sans-Serif\" font-size=\"14.00\">(...)</text>\n",
       "</g>\n",
       "<!-- 25&#45;&gt;26 -->\n",
       "<g id=\"edge6\" class=\"edge\">\n",
       "<title>25&#45;&gt;26</title>\n",
       "<path fill=\"none\" stroke=\"black\" d=\"M251.21,-71.8C247.34,-63.35 243.03,-53.95 239.13,-45.45\"/>\n",
       "<polygon fill=\"black\" stroke=\"black\" points=\"242.3,-43.96 234.95,-36.33 235.93,-46.88 242.3,-43.96\"/>\n",
       "</g>\n",
       "<!-- 27 -->\n",
       "<g id=\"node8\" class=\"node\">\n",
       "<title>27</title>\n",
       "<polygon fill=\"#c0c0c0\" stroke=\"black\" points=\"326,-36 272,-36 272,0 326,0 326,-36\"/>\n",
       "<text text-anchor=\"middle\" x=\"299\" y=\"-14.3\" font-family=\"Helvetica,sans-Serif\" font-size=\"14.00\">(...)</text>\n",
       "</g>\n",
       "<!-- 25&#45;&gt;27 -->\n",
       "<g id=\"edge7\" class=\"edge\">\n",
       "<title>25&#45;&gt;27</title>\n",
       "<path fill=\"none\" stroke=\"black\" d=\"M274.79,-71.8C278.66,-63.35 282.97,-53.95 286.87,-45.45\"/>\n",
       "<polygon fill=\"black\" stroke=\"black\" points=\"290.07,-46.88 291.05,-36.33 283.7,-43.96 290.07,-46.88\"/>\n",
       "</g>\n",
       "<!-- 45 -->\n",
       "<g id=\"node10\" class=\"node\">\n",
       "<title>45</title>\n",
       "<polygon fill=\"#f8e0ce\" stroke=\"black\" points=\"588.5,-125 385.5,-125 385.5,-72 588.5,-72 588.5,-125\"/>\n",
       "<text text-anchor=\"middle\" x=\"487\" y=\"-109.8\" font-family=\"Helvetica,sans-Serif\" font-size=\"14.00\">EstimatedSalary &lt;= 1.637</text>\n",
       "<text text-anchor=\"middle\" x=\"487\" y=\"-94.8\" font-family=\"Helvetica,sans-Serif\" font-size=\"14.00\">samples = 1.0%</text>\n",
       "<text text-anchor=\"middle\" x=\"487\" y=\"-79.8\" font-family=\"Helvetica,sans-Serif\" font-size=\"14.00\">value = 0.25</text>\n",
       "</g>\n",
       "<!-- 44&#45;&gt;45 -->\n",
       "<g id=\"edge9\" class=\"edge\">\n",
       "<title>44&#45;&gt;45</title>\n",
       "<path fill=\"none\" stroke=\"black\" d=\"M487,-160.87C487,-152.89 487,-143.93 487,-135.38\"/>\n",
       "<polygon fill=\"black\" stroke=\"black\" points=\"490.5,-135.25 487,-125.25 483.5,-135.25 490.5,-135.25\"/>\n",
       "</g>\n",
       "<!-- 48 -->\n",
       "<g id=\"node13\" class=\"node\">\n",
       "<title>48</title>\n",
       "<polygon fill=\"#e88f4f\" stroke=\"black\" points=\"747,-125 607,-125 607,-72 747,-72 747,-125\"/>\n",
       "<text text-anchor=\"middle\" x=\"677\" y=\"-109.8\" font-family=\"Helvetica,sans-Serif\" font-size=\"14.00\">Age &lt;= &#45;0.445</text>\n",
       "<text text-anchor=\"middle\" x=\"677\" y=\"-94.8\" font-family=\"Helvetica,sans-Serif\" font-size=\"14.00\">samples = 20.3%</text>\n",
       "<text text-anchor=\"middle\" x=\"677\" y=\"-79.8\" font-family=\"Helvetica,sans-Serif\" font-size=\"14.00\">value = 0.889</text>\n",
       "</g>\n",
       "<!-- 44&#45;&gt;48 -->\n",
       "<g id=\"edge12\" class=\"edge\">\n",
       "<title>44&#45;&gt;48</title>\n",
       "<path fill=\"none\" stroke=\"black\" d=\"M542.72,-160.98C564.47,-151.03 589.56,-139.54 612.11,-129.21\"/>\n",
       "<polygon fill=\"black\" stroke=\"black\" points=\"613.64,-132.36 621.28,-125.01 610.73,-126 613.64,-132.36\"/>\n",
       "</g>\n",
       "<!-- 46 -->\n",
       "<g id=\"node11\" class=\"node\">\n",
       "<title>46</title>\n",
       "<polygon fill=\"#c0c0c0\" stroke=\"black\" points=\"478,-36 424,-36 424,0 478,0 478,-36\"/>\n",
       "<text text-anchor=\"middle\" x=\"451\" y=\"-14.3\" font-family=\"Helvetica,sans-Serif\" font-size=\"14.00\">(...)</text>\n",
       "</g>\n",
       "<!-- 45&#45;&gt;46 -->\n",
       "<g id=\"edge10\" class=\"edge\">\n",
       "<title>45&#45;&gt;46</title>\n",
       "<path fill=\"none\" stroke=\"black\" d=\"M475.21,-71.8C471.34,-63.35 467.03,-53.95 463.13,-45.45\"/>\n",
       "<polygon fill=\"black\" stroke=\"black\" points=\"466.3,-43.96 458.95,-36.33 459.93,-46.88 466.3,-43.96\"/>\n",
       "</g>\n",
       "<!-- 47 -->\n",
       "<g id=\"node12\" class=\"node\">\n",
       "<title>47</title>\n",
       "<polygon fill=\"#c0c0c0\" stroke=\"black\" points=\"550,-36 496,-36 496,0 550,0 550,-36\"/>\n",
       "<text text-anchor=\"middle\" x=\"523\" y=\"-14.3\" font-family=\"Helvetica,sans-Serif\" font-size=\"14.00\">(...)</text>\n",
       "</g>\n",
       "<!-- 45&#45;&gt;47 -->\n",
       "<g id=\"edge11\" class=\"edge\">\n",
       "<title>45&#45;&gt;47</title>\n",
       "<path fill=\"none\" stroke=\"black\" d=\"M498.79,-71.8C502.66,-63.35 506.97,-53.95 510.87,-45.45\"/>\n",
       "<polygon fill=\"black\" stroke=\"black\" points=\"514.07,-46.88 515.05,-36.33 507.7,-43.96 514.07,-46.88\"/>\n",
       "</g>\n",
       "<!-- 49 -->\n",
       "<g id=\"node14\" class=\"node\">\n",
       "<title>49</title>\n",
       "<polygon fill=\"#c0c0c0\" stroke=\"black\" points=\"668,-36 614,-36 614,0 668,0 668,-36\"/>\n",
       "<text text-anchor=\"middle\" x=\"641\" y=\"-14.3\" font-family=\"Helvetica,sans-Serif\" font-size=\"14.00\">(...)</text>\n",
       "</g>\n",
       "<!-- 48&#45;&gt;49 -->\n",
       "<g id=\"edge13\" class=\"edge\">\n",
       "<title>48&#45;&gt;49</title>\n",
       "<path fill=\"none\" stroke=\"black\" d=\"M665.21,-71.8C661.34,-63.35 657.03,-53.95 653.13,-45.45\"/>\n",
       "<polygon fill=\"black\" stroke=\"black\" points=\"656.3,-43.96 648.95,-36.33 649.93,-46.88 656.3,-43.96\"/>\n",
       "</g>\n",
       "<!-- 54 -->\n",
       "<g id=\"node15\" class=\"node\">\n",
       "<title>54</title>\n",
       "<polygon fill=\"#c0c0c0\" stroke=\"black\" points=\"740,-36 686,-36 686,0 740,0 740,-36\"/>\n",
       "<text text-anchor=\"middle\" x=\"713\" y=\"-14.3\" font-family=\"Helvetica,sans-Serif\" font-size=\"14.00\">(...)</text>\n",
       "</g>\n",
       "<!-- 48&#45;&gt;54 -->\n",
       "<g id=\"edge14\" class=\"edge\">\n",
       "<title>48&#45;&gt;54</title>\n",
       "<path fill=\"none\" stroke=\"black\" d=\"M688.79,-71.8C692.66,-63.35 696.97,-53.95 700.87,-45.45\"/>\n",
       "<polygon fill=\"black\" stroke=\"black\" points=\"704.07,-46.88 705.05,-36.33 697.7,-43.96 704.07,-46.88\"/>\n",
       "</g>\n",
       "</g>\n",
       "</svg>\n"
      ],
      "text/plain": [
       "<graphviz.sources.Source at 0x7f8a29e6e640>"
      ]
     },
     "metadata": {},
     "output_type": "display_data"
    }
   ],
   "source": [
    "import graphviz\n",
    "from sklearn.tree import export_graphviz\n",
    "\n",
    "feature_names = ['Age', 'EstimatedSalary']\n",
    "\n",
    "for i in range(3):\n",
    "    tree = rf.estimators_[i]\n",
    "    dot_data = export_graphviz(tree,\n",
    "                               feature_names=feature_names,  \n",
    "                               filled=True,  \n",
    "                               max_depth=2, \n",
    "                               impurity=False, \n",
    "                               proportion=True)\n",
    "    graph = graphviz.Source(dot_data)\n",
    "    display(graph)"
   ]
  },
  {
   "cell_type": "code",
   "execution_count": 18,
   "metadata": {},
   "outputs": [],
   "source": [
    "y_pred=np.matrix.round(rf.predict(x_test))"
   ]
  },
  {
   "cell_type": "code",
   "execution_count": 19,
   "metadata": {},
   "outputs": [
    {
     "data": {
      "image/png": "[encoded data removed]",
      "text/plain": [
       "<Figure size 640x480 with 1 Axes>"
      ]
     },
     "metadata": {},
     "output_type": "display_data"
    }
   ],
   "source": [
    "from sklearn.metrics import confusion_matrix\n",
    "\n",
    "cm = confusion_matrix(y_test, y_pred)\n",
    "\n",
    "sns.heatmap(cm, annot=True, fmt='d', cmap='Blues', cbar=False,\n",
    "           xticklabels=['Not Purchased', 'Purchased'], yticklabels=['Not Purchased', 'Purchased'])\n",
    "plt.xlabel('Predicted')\n",
    "plt.ylabel('Actual')\n",
    "plt.title('Confusion Matrix')\n",
    "plt.show()"
   ]
  },
  {
   "cell_type": "code",
   "execution_count": 20,
   "metadata": {},
   "outputs": [
    {
     "data": {
      "image/png": "[encoded data removed]",
      "text/plain": [
       "<Figure size 640x480 with 1 Axes>"
      ]
     },
     "metadata": {},
     "output_type": "display_data"
    }
   ],
   "source": [
    "from sklearn.metrics import auc, roc_curve\n",
    "from sklearn.ensemble import RandomForestClassifier\n",
    "\n",
    "n_estimators = [1, 2, 4, 8, 16, 32, 64, 100, 200]\n",
    "train_results = []\n",
    "test_results = []\n",
    "\n",
    "for estimator in n_estimators:\n",
    "    rf = RandomForestClassifier(n_estimators=estimator, n_jobs=-1)\n",
    "    rf.fit(x_train, y_train)\n",
    "    train_pred = rf.predict(x_train)\n",
    "    false_positive_rate, true_positive_rate, thresholds = roc_curve(y_train, train_pred)\n",
    "    roc_auc = auc(false_positive_rate, true_positive_rate)\n",
    "    train_results.append(roc_auc)\n",
    "    y_pred = rf.predict(x_test)\n",
    "    false_positive_rate, true_positive_rate, thresholds = roc_curve(y_test, y_pred)\n",
    "    roc_auc = auc(false_positive_rate, true_positive_rate)\n",
    "    test_results.append(roc_auc)\n",
    "    \n",
    "from matplotlib.legend_handler import HandlerLine2D\n",
    "line1, = plt.plot(n_estimators, train_results, \"b\", label=\"Train AUC\")\n",
    "line2, = plt.plot(n_estimators, test_results, \"r\", label=\"Test AUC\")\n",
    "plt.legend(handler_map={line1: HandlerLine2D(numpoints=2)})\n",
    "plt.ylabel('AUC Score')\n",
    "plt.xlabel('n_estimators')\n",
    "plt.show()"
   ]
  },
  {
   "cell_type": "code",
   "execution_count": 21,
   "metadata": {},
   "outputs": [
    {
     "name": "stdout",
     "output_type": "stream",
     "text": [
      "92.45\n"
     ]
    }
   ],
   "source": [
    "from sklearn.metrics import roc_curve, auc\n",
    "false_positive_rate, true_positive_rate, thresholds = roc_curve(y_test, y_pred)\n",
    "roc_auc = auc(false_positive_rate, true_positive_rate)\n",
    "print(round(roc_auc*100,2))"
   ]
  }
 ],
 "metadata": {
  "kernelspec": {
   "display_name": "Python 3",
   "language": "python",
   "name": "python3"
  },
  "language_info": {
   "codemirror_mode": {
    "name": "ipython",
    "version": 3
   },
   "file_extension": ".py",
   "mimetype": "text/x-python",
   "name": "python",
   "nbconvert_exporter": "python",
   "pygments_lexer": "ipython3",
   "version": "3.8.10"
  }
 },
 "nbformat": 4,
 "nbformat_minor": 2
}
